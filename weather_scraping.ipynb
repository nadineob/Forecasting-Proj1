{
 "cells": [
  {
   "cell_type": "code",
   "execution_count": 1,
   "metadata": {},
   "outputs": [
    {
     "name": "stdout",
     "output_type": "stream",
     "text": [
      "Collecting wwo-hist\n",
      "  Downloading wwo_hist-0.0.7-py3-none-any.whl (4.6 kB)\n",
      "Installing collected packages: wwo-hist\n",
      "Successfully installed wwo-hist-0.0.7\n"
     ]
    }
   ],
   "source": [
    "import sys\n",
    "!{sys.executable} -m pip install wwo-hist"
   ]
  },
  {
   "cell_type": "code",
   "execution_count": 2,
   "metadata": {},
   "outputs": [],
   "source": [
    "import wwo_hist"
   ]
  },
  {
   "cell_type": "code",
   "execution_count": 5,
   "metadata": {},
   "outputs": [],
   "source": [
    "key='efa03f9bb1e2428d9cc151357221005'\n",
    "locations=['Nyon'] # list of strings containg US Zipcode, UK Postcode, Canada Postalcode, IP address, Latitude/Longitude (decimal degree) or city name  \n",
    "start='01-Mar-2022' # date when desired scraping period starts; preferred date format: 'dd-mmm-yyyy'\n",
    "end='10-May-2022' # date when desired scraping period ends; preferred date format: 'dd-mmm-yyyy\n",
    "freq=1 # frequency between observations; possible values 1 (1 hour), 3 (3 hours), 6 (6 hours), 12 (12 hours (day/night)) or 24 (daily averages)"
   ]
  },
  {
   "cell_type": "code",
   "execution_count": 6,
   "metadata": {},
   "outputs": [
    {
     "name": "stdout",
     "output_type": "stream",
     "text": [
      "\n",
      "\n",
      "Retrieving weather data for Nyon\n",
      "\n",
      "\n",
      "Currently retrieving data for Nyon: from 2022-03-01 to 2022-03-31\n",
      "Time elapsed (hh:mm:ss.ms) 0:00:01.759336\n",
      "Currently retrieving data for Nyon: from 2022-04-01 to 2022-04-30\n",
      "Time elapsed (hh:mm:ss.ms) 0:00:02.781899\n",
      "Currently retrieving data for Nyon: from 2022-05-01 to 2022-05-10\n",
      "Time elapsed (hh:mm:ss.ms) 0:00:03.232429\n",
      "\n",
      "\n",
      "export Nyon completed!\n",
      "\n",
      "\n"
     ]
    }
   ],
   "source": [
    "hist_weather_data = wwo_hist.retrieve_hist_data(\n",
    "    api_key=key, \n",
    "    location_list=locations, \n",
    "    start_date=start, \n",
    "    end_date=end, \n",
    "    frequency=freq, \n",
    "    location_label=False, \n",
    "    export_csv=True, \n",
    "    store_df=False\n",
    ")"
   ]
  }
 ],
 "metadata": {
  "interpreter": {
   "hash": "d6ab9c43d0ffc6a876efc8f7abb63dfedf6720c760e248878e2dbeb06a287133"
  },
  "kernelspec": {
   "display_name": "Python 3.10.2 64-bit",
   "language": "python",
   "name": "python3"
  },
  "language_info": {
   "codemirror_mode": {
    "name": "ipython",
    "version": 3
   },
   "file_extension": ".py",
   "mimetype": "text/x-python",
   "name": "python",
   "nbconvert_exporter": "python",
   "pygments_lexer": "ipython3",
   "version": "3.10.2"
  },
  "orig_nbformat": 4
 },
 "nbformat": 4,
 "nbformat_minor": 2
}
